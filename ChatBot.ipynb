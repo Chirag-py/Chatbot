{
  "nbformat": 4,
  "nbformat_minor": 0,
  "metadata": {
    "colab": {
      "name": "ChatBot.ipynb",
      "provenance": [],
      "collapsed_sections": []
    },
    "kernelspec": {
      "name": "python3",
      "display_name": "Python 3"
    }
  },
  "cells": [
    {
      "cell_type": "code",
      "metadata": {
        "id": "wR3Z6-M3PaBl",
        "colab_type": "code",
        "colab": {}
      },
      "source": [
        "from nltk.chat.util import Chat, reflections"
      ],
      "execution_count": 4,
      "outputs": []
    },
    {
      "cell_type": "code",
      "metadata": {
        "id": "Mw-4sd_1QQ6m",
        "colab_type": "code",
        "colab": {}
      },
      "source": [
        "pairs = [\n",
        "         ['my name is (.*)', ['Nice to hear from you, I am Singh jr %1']],\n",
        "         ['(hi|hey|hola|namaste|hello)', ['hi there', 'hello there', 'namaste']],\n",
        "         ['(.*) your name?',['my name is Singh Jr. ask me questions to learn about Chirag Singh']],\n",
        "         ['(.*) created you?',['i was develped by Mr Singh to help people and if you get none as a reply please try reframing your question.']],\n",
        "         ['(.*) your purpose?',['i was develped by Mr Singh to help people and if you get none as a reply please try reframing your question.']],\n",
        "         ['(.*) help', ['i can answer any question related to chirag singh, if you get none as a reply please try reframing your question.']],\n",
        "         ['(goodbye|bye|see you)', ['ciao', 'good day', 'thank you for coming', 'bye bye']],\n",
        "         ['(.*) age', ['He was born on 12 January 1999 and he is 21 years old (2020)']],\n",
        "         ['(.*) old', ['He was born on 12 January 1999 and he is 21 years old (2020)']],\n",
        "         ['(.*) college', ['He is currently a Btech student of Information Technology in JSS Academy of Technical Education, His aggregate score is 80.72']],\n",
        "         ['(.*) school', ['He did his schooling from DAV Public School. He scored 9 cgpa in 10th and 86 percent in 12th']],\n",
        "         ['(.*) 10th', ['He scored 9 cgpa in 10th and 86 percent in 12th']],\n",
        "         ['(.*) 12th', ['He scored 9 cgpa in 10th and 86 percent in 12th']],\n",
        "         ['(.*) highest qualification', ['12th Pass and currently pursuing Btech degree from JSS Academy of Technical Education']],\n",
        "         ['(.*) btech percentage', ['his aggreagte score is 80.72']],\n",
        "         ['(.*) btech cgpa', ['His aggreagte score is 80.72']],\n",
        "         ['(.*) btech grade', ['His aggreagte score is 80.72']],\n",
        "         ['(.*) graduation', ['He is expected to complete his degree by May 2021']],\n",
        "         ['(.*) internship', ['He has done 2 internships yet \\n Software Engineering Virtual Internship with JPMorgan Chase & Co. \\n Web Development IMD, Delhi \\n to know more about these internships mention the organisation name']],\n",
        "         ['(.*) experience', ['He has done 2 internships yet \\n Software Engineering Virtual Internship with JPMorgan Chase & Co. \\n Web Development IMD, Delhi \\n to know more about these internships mention the organisation name']],\n",
        "         ['(.*) JPMorgan', ['Software Engineering Virtual Internship \\n JPMorgan Chase & Co., Virtual \\n Jul 2020 - Aug 2020 \\n Completed practical task modules in: \\n -Establishing Financial Data Feeds \\n -Frontend Web Development \\n -Data Visualization with Perspective']],\n",
        "         ['(.*) IMD', ['Design and Developed an utility for currently existing website of INDIAN METEOROLOGICAL DEPARTMENT for submission of research paper online between June 2019 and July 2019']],\n",
        "         ['(.*) Meteorological (.*)', ['Design and Developed an utility for currently existing website of INDIAN METEOROLOGICAL DEPARTMENT for submission of research paper online between June 2019 and July 2019']], \n",
        "         ['(.*) trainings', [' Apache Cassandra Certifcation Program(jul20-jun20) \\n Python 3 Programming Specialization(dec19-may20) \\n AWS Fundaments(jul19-aug19)']],\n",
        "         ['(.*) skills', [' Python (Intermediate) \\n Apache Cassandra (Beginner) \\n NoSQL (Beginner) \\n SQL (Beginner) \\n C++ Programming (Intermediate) \\n C programming (Beginner) \\n HTML (Intermediate) \\n CSS (Beginner) \\n DBMS (Intermediate) \\n AWS (Beginner) \\n Algorithms (Intermediate) \\n Data Structures (Beginner) \\n Django (Beginner) \\n GitHub (Beginner)']],\n",
        "         ['(.*) technologies', [' Python (Intermediate) \\n Apache Cassandra (Beginner) \\n NoSQL (Beginner) \\n SQL (Beginner) \\n C++ Programming (Intermediate) \\n C programming (Beginner) \\n HTML (Intermediate) \\n CSS (Beginner) \\n DBMS (Intermediate) \\n AWS (Beginner) \\n Algorithms (Intermediate) \\n Data Structures (Beginner) \\n Django (Beginner) \\n GitHub (Beginner)']],\n",
        "         ['(.*) hobbies', [' Playing Sports specially Football \\n Reading Books \\n Cooking \\n Gaming']],\n",
        "         ['(.*) profiles', [' Github - https://github.com/Chirag-py \\n Linkedin - https://www.linkedin.com/in/chirag-singh-58684a192/ \\n Gmail - chirag123singh@gmail.com']],\n",
        "         ['(.*) family', ['6 Family members including Chirag. He has 3 sisters 2 of them are working as Data Scientists and one works in Fashion Industry']],\n",
        "         ['(.*) live', ['He lives in Mohan Nagar, Ghaziabad, Uttar Pradesh']],\n",
        "         ['(.*) address', ['He lives in Mohan Nagar, Ghaziabad, Uttar Pradesh']],\n",
        "         ['(.*) strength and weaknesses', [' Strength - Leader, Learner, Enthusiastic \\n Weaknesses - tardy, trouble saying no, have a hard time letting go of a project']],\n",
        "         ['(.*) weaknesses', ['Weaknesses - tardy, trouble saying no, have a hard time letting go of a project']],\n",
        "         ['(.*) strength', ['Strength - Leader, Learner, Enthusiastic']],\n",
        "         \n",
        "]\n"
      ],
      "execution_count": 16,
      "outputs": []
    },
    {
      "cell_type": "code",
      "metadata": {
        "id": "9JbsIn1cuR0N",
        "colab_type": "code",
        "colab": {
          "base_uri": "https://localhost:8080/",
          "height": 1000
        },
        "outputId": "c03db394-e941-432e-b4c6-c8d03b8e3528"
      },
      "source": [
        "chat = Chat(pairs, reflections)\n",
        "chat.converse()"
      ],
      "execution_count": 17,
      "outputs": [
        {
          "output_type": "stream",
          "text": [
            ">hola\n",
            "namaste\n",
            ">my name is anushiv shukla\n",
            "Nice to hear from you, I am Singh jr anushiv shukla\n",
            ">who created you?\n",
            "i was develped by Mr Singh to help people and if you get none as a reply please try reframing your question.\n",
            ">how can you help me?\n",
            "i can answer any question related to chirag singh, if you get none as a reply please try reframing your question.\n",
            ">what is chirag singh's age?\n",
            "He was born on 12 January 1999 and he is 21 years old (2020)\n",
            ">what is his college name?\n",
            "He is currently a Btech student of Information Technology in JSS Academy of Technical Education, His aggregate score is 80.72\n",
            ">what was his school's name?\n",
            "He did his schooling from DAV Public School. He scored 9 cgpa in 10th and 86 percent in 12th\n",
            ">what was his score in 10th and 12th?\n",
            "He scored 9 cgpa in 10th and 86 percent in 12th\n",
            ">what is his highest qualification?\n",
            "12th Pass and currently pursuing Btech degree from JSS Academy of Technical Education\n",
            ">what is his btech percentage?\n",
            "his aggreagte score is 80.72\n",
            ">when will his graduation be completed?\n",
            "He is expected to complete his degree by May 2021\n",
            ">did he have any experience?\n",
            "He has done 2 internships yet \n",
            " Software Engineering Virtual Internship with JPMorgan Chase & Co. \n",
            " Web Development IMD, Delhi \n",
            " to know more about these internships mention the organisation name\n",
            ">tell me about his time with JPMorgan Chase & Co.\n",
            "Software Engineering Virtual Internship \n",
            " JPMorgan Chase & Co., Virtual \n",
            " Jul 2020 - Aug 2020 \n",
            " Completed practical task modules in: \n",
            " -Establishing Financial Data Feeds \n",
            " -Frontend Web Development \n",
            " -Data Visualization with Perspective\n",
            ">tell me about his time with IMD\n",
            "Design and Developed an utility for currently existing website of INDIAN METEOROLOGICAL DEPARTMENT for submission of research paper online between June 2019 and July 2019\n",
            ">Did he undergo any trainings?\n",
            "Apache Cassandra Certifcation Program(jul20-jun20) \n",
            " Python 3 Programming Specialization(dec19-may20) \n",
            " AWS Fundaments(jul19-aug19)\n",
            ">what are his skills?\n",
            "Python (Intermediate) \n",
            " Apache Cassandra (Beginner) \n",
            " NoSQL (Beginner) \n",
            " SQL (Beginner) \n",
            " C++ Programming (Intermediate) \n",
            " C programming (Beginner) \n",
            " HTML (Intermediate) \n",
            " CSS (Beginner) \n",
            " DBMS (Intermediate) \n",
            " AWS (Beginner) \n",
            " Algorithms (Intermediate) \n",
            " Data Structures (Beginner) \n",
            " Django (Beginner) \n",
            " GitHub (Beginner)\n",
            ">what are his hobbies?\n",
            " Playing Sports specially Football \n",
            " Reading Books \n",
            " Cooking \n",
            " Gaming\n",
            ">tell me about his family?\n",
            "6 Family members including Chirag. He has 3 sisters 2 of them are working as Data Scientists and one works in Fashion Industry\n",
            ">where does he live?\n",
            "He lives in Mohan Nagar, Ghaziabad, Uttar Pradesh\n",
            ">tell me about his strength and weaknesses?\n",
            "Strength - Leader, Learner, Enthusiastic \n",
            " Weaknesses - tardy, trouble saying no, have a hard time letting go of a project\n",
            ">ok thankyou goodbye\n",
            "None\n",
            ">goodbye\n",
            "ciao\n"
          ],
          "name": "stdout"
        },
        {
          "output_type": "error",
          "ename": "KeyboardInterrupt",
          "evalue": "ignored",
          "traceback": [
            "\u001b[0;31m---------------------------------------------------------------------------\u001b[0m",
            "\u001b[0;31mKeyboardInterrupt\u001b[0m                         Traceback (most recent call last)",
            "\u001b[0;32m/usr/local/lib/python3.6/dist-packages/ipykernel/kernelbase.py\u001b[0m in \u001b[0;36m_input_request\u001b[0;34m(self, prompt, ident, parent, password)\u001b[0m\n\u001b[1;32m    728\u001b[0m             \u001b[0;32mtry\u001b[0m\u001b[0;34m:\u001b[0m\u001b[0;34m\u001b[0m\u001b[0;34m\u001b[0m\u001b[0m\n\u001b[0;32m--> 729\u001b[0;31m                 \u001b[0mident\u001b[0m\u001b[0;34m,\u001b[0m \u001b[0mreply\u001b[0m \u001b[0;34m=\u001b[0m \u001b[0mself\u001b[0m\u001b[0;34m.\u001b[0m\u001b[0msession\u001b[0m\u001b[0;34m.\u001b[0m\u001b[0mrecv\u001b[0m\u001b[0;34m(\u001b[0m\u001b[0mself\u001b[0m\u001b[0;34m.\u001b[0m\u001b[0mstdin_socket\u001b[0m\u001b[0;34m,\u001b[0m \u001b[0;36m0\u001b[0m\u001b[0;34m)\u001b[0m\u001b[0;34m\u001b[0m\u001b[0;34m\u001b[0m\u001b[0m\n\u001b[0m\u001b[1;32m    730\u001b[0m             \u001b[0;32mexcept\u001b[0m \u001b[0mException\u001b[0m\u001b[0;34m:\u001b[0m\u001b[0;34m\u001b[0m\u001b[0;34m\u001b[0m\u001b[0m\n",
            "\u001b[0;32m/usr/local/lib/python3.6/dist-packages/jupyter_client/session.py\u001b[0m in \u001b[0;36mrecv\u001b[0;34m(self, socket, mode, content, copy)\u001b[0m\n\u001b[1;32m    802\u001b[0m         \u001b[0;32mtry\u001b[0m\u001b[0;34m:\u001b[0m\u001b[0;34m\u001b[0m\u001b[0;34m\u001b[0m\u001b[0m\n\u001b[0;32m--> 803\u001b[0;31m             \u001b[0mmsg_list\u001b[0m \u001b[0;34m=\u001b[0m \u001b[0msocket\u001b[0m\u001b[0;34m.\u001b[0m\u001b[0mrecv_multipart\u001b[0m\u001b[0;34m(\u001b[0m\u001b[0mmode\u001b[0m\u001b[0;34m,\u001b[0m \u001b[0mcopy\u001b[0m\u001b[0;34m=\u001b[0m\u001b[0mcopy\u001b[0m\u001b[0;34m)\u001b[0m\u001b[0;34m\u001b[0m\u001b[0;34m\u001b[0m\u001b[0m\n\u001b[0m\u001b[1;32m    804\u001b[0m         \u001b[0;32mexcept\u001b[0m \u001b[0mzmq\u001b[0m\u001b[0;34m.\u001b[0m\u001b[0mZMQError\u001b[0m \u001b[0;32mas\u001b[0m \u001b[0me\u001b[0m\u001b[0;34m:\u001b[0m\u001b[0;34m\u001b[0m\u001b[0;34m\u001b[0m\u001b[0m\n",
            "\u001b[0;32m/usr/local/lib/python3.6/dist-packages/zmq/sugar/socket.py\u001b[0m in \u001b[0;36mrecv_multipart\u001b[0;34m(self, flags, copy, track)\u001b[0m\n\u001b[1;32m    490\u001b[0m         \"\"\"\n\u001b[0;32m--> 491\u001b[0;31m         \u001b[0mparts\u001b[0m \u001b[0;34m=\u001b[0m \u001b[0;34m[\u001b[0m\u001b[0mself\u001b[0m\u001b[0;34m.\u001b[0m\u001b[0mrecv\u001b[0m\u001b[0;34m(\u001b[0m\u001b[0mflags\u001b[0m\u001b[0;34m,\u001b[0m \u001b[0mcopy\u001b[0m\u001b[0;34m=\u001b[0m\u001b[0mcopy\u001b[0m\u001b[0;34m,\u001b[0m \u001b[0mtrack\u001b[0m\u001b[0;34m=\u001b[0m\u001b[0mtrack\u001b[0m\u001b[0;34m)\u001b[0m\u001b[0;34m]\u001b[0m\u001b[0;34m\u001b[0m\u001b[0;34m\u001b[0m\u001b[0m\n\u001b[0m\u001b[1;32m    492\u001b[0m         \u001b[0;31m# have first part already, only loop while more to receive\u001b[0m\u001b[0;34m\u001b[0m\u001b[0;34m\u001b[0m\u001b[0;34m\u001b[0m\u001b[0m\n",
            "\u001b[0;32mzmq/backend/cython/socket.pyx\u001b[0m in \u001b[0;36mzmq.backend.cython.socket.Socket.recv\u001b[0;34m()\u001b[0m\n",
            "\u001b[0;32mzmq/backend/cython/socket.pyx\u001b[0m in \u001b[0;36mzmq.backend.cython.socket.Socket.recv\u001b[0;34m()\u001b[0m\n",
            "\u001b[0;32mzmq/backend/cython/socket.pyx\u001b[0m in \u001b[0;36mzmq.backend.cython.socket._recv_copy\u001b[0;34m()\u001b[0m\n",
            "\u001b[0;32m/usr/local/lib/python3.6/dist-packages/zmq/backend/cython/checkrc.pxd\u001b[0m in \u001b[0;36mzmq.backend.cython.checkrc._check_rc\u001b[0;34m()\u001b[0m\n",
            "\u001b[0;31mKeyboardInterrupt\u001b[0m: ",
            "\nDuring handling of the above exception, another exception occurred:\n",
            "\u001b[0;31mKeyboardInterrupt\u001b[0m                         Traceback (most recent call last)",
            "\u001b[0;32m<ipython-input-17-79958852ebf0>\u001b[0m in \u001b[0;36m<module>\u001b[0;34m()\u001b[0m\n\u001b[1;32m      1\u001b[0m \u001b[0mchat\u001b[0m \u001b[0;34m=\u001b[0m \u001b[0mChat\u001b[0m\u001b[0;34m(\u001b[0m\u001b[0mpairs\u001b[0m\u001b[0;34m,\u001b[0m \u001b[0mreflections\u001b[0m\u001b[0;34m)\u001b[0m\u001b[0;34m\u001b[0m\u001b[0;34m\u001b[0m\u001b[0m\n\u001b[0;32m----> 2\u001b[0;31m \u001b[0mchat\u001b[0m\u001b[0;34m.\u001b[0m\u001b[0mconverse\u001b[0m\u001b[0;34m(\u001b[0m\u001b[0;34m)\u001b[0m\u001b[0;34m\u001b[0m\u001b[0;34m\u001b[0m\u001b[0m\n\u001b[0m",
            "\u001b[0;32m/usr/local/lib/python3.6/dist-packages/nltk/chat/util.py\u001b[0m in \u001b[0;36mconverse\u001b[0;34m(self, quit)\u001b[0m\n\u001b[1;32m    115\u001b[0m         \u001b[0;32mwhile\u001b[0m \u001b[0muser_input\u001b[0m \u001b[0;34m!=\u001b[0m \u001b[0mquit\u001b[0m\u001b[0;34m:\u001b[0m\u001b[0;34m\u001b[0m\u001b[0;34m\u001b[0m\u001b[0m\n\u001b[1;32m    116\u001b[0m             \u001b[0muser_input\u001b[0m \u001b[0;34m=\u001b[0m \u001b[0mquit\u001b[0m\u001b[0;34m\u001b[0m\u001b[0;34m\u001b[0m\u001b[0m\n\u001b[0;32m--> 117\u001b[0;31m             \u001b[0;32mtry\u001b[0m\u001b[0;34m:\u001b[0m \u001b[0muser_input\u001b[0m \u001b[0;34m=\u001b[0m \u001b[0minput\u001b[0m\u001b[0;34m(\u001b[0m\u001b[0;34m\">\"\u001b[0m\u001b[0;34m)\u001b[0m\u001b[0;34m\u001b[0m\u001b[0;34m\u001b[0m\u001b[0m\n\u001b[0m\u001b[1;32m    118\u001b[0m             \u001b[0;32mexcept\u001b[0m \u001b[0mEOFError\u001b[0m\u001b[0;34m:\u001b[0m\u001b[0;34m\u001b[0m\u001b[0;34m\u001b[0m\u001b[0m\n\u001b[1;32m    119\u001b[0m                 \u001b[0mprint\u001b[0m\u001b[0;34m(\u001b[0m\u001b[0muser_input\u001b[0m\u001b[0;34m)\u001b[0m\u001b[0;34m\u001b[0m\u001b[0;34m\u001b[0m\u001b[0m\n",
            "\u001b[0;32m/usr/local/lib/python3.6/dist-packages/ipykernel/kernelbase.py\u001b[0m in \u001b[0;36mraw_input\u001b[0;34m(self, prompt)\u001b[0m\n\u001b[1;32m    702\u001b[0m             \u001b[0mself\u001b[0m\u001b[0;34m.\u001b[0m\u001b[0m_parent_ident\u001b[0m\u001b[0;34m,\u001b[0m\u001b[0;34m\u001b[0m\u001b[0;34m\u001b[0m\u001b[0m\n\u001b[1;32m    703\u001b[0m             \u001b[0mself\u001b[0m\u001b[0;34m.\u001b[0m\u001b[0m_parent_header\u001b[0m\u001b[0;34m,\u001b[0m\u001b[0;34m\u001b[0m\u001b[0;34m\u001b[0m\u001b[0m\n\u001b[0;32m--> 704\u001b[0;31m             \u001b[0mpassword\u001b[0m\u001b[0;34m=\u001b[0m\u001b[0;32mFalse\u001b[0m\u001b[0;34m,\u001b[0m\u001b[0;34m\u001b[0m\u001b[0;34m\u001b[0m\u001b[0m\n\u001b[0m\u001b[1;32m    705\u001b[0m         )\n\u001b[1;32m    706\u001b[0m \u001b[0;34m\u001b[0m\u001b[0m\n",
            "\u001b[0;32m/usr/local/lib/python3.6/dist-packages/ipykernel/kernelbase.py\u001b[0m in \u001b[0;36m_input_request\u001b[0;34m(self, prompt, ident, parent, password)\u001b[0m\n\u001b[1;32m    732\u001b[0m             \u001b[0;32mexcept\u001b[0m \u001b[0mKeyboardInterrupt\u001b[0m\u001b[0;34m:\u001b[0m\u001b[0;34m\u001b[0m\u001b[0;34m\u001b[0m\u001b[0m\n\u001b[1;32m    733\u001b[0m                 \u001b[0;31m# re-raise KeyboardInterrupt, to truncate traceback\u001b[0m\u001b[0;34m\u001b[0m\u001b[0;34m\u001b[0m\u001b[0;34m\u001b[0m\u001b[0m\n\u001b[0;32m--> 734\u001b[0;31m                 \u001b[0;32mraise\u001b[0m \u001b[0mKeyboardInterrupt\u001b[0m\u001b[0;34m\u001b[0m\u001b[0;34m\u001b[0m\u001b[0m\n\u001b[0m\u001b[1;32m    735\u001b[0m             \u001b[0;32melse\u001b[0m\u001b[0;34m:\u001b[0m\u001b[0;34m\u001b[0m\u001b[0;34m\u001b[0m\u001b[0m\n\u001b[1;32m    736\u001b[0m                 \u001b[0;32mbreak\u001b[0m\u001b[0;34m\u001b[0m\u001b[0;34m\u001b[0m\u001b[0m\n",
            "\u001b[0;31mKeyboardInterrupt\u001b[0m: "
          ]
        }
      ]
    }
  ]
}